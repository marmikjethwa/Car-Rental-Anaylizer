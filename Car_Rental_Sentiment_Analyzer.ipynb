{
 "cells": [
  {
   "cell_type": "code",
   "execution_count": null,
   "id": "a109a390",
   "metadata": {},
   "outputs": [],
   "source": [
    "# Car Rental Customer Feedback Analyzer"
   ]
  },
  {
   "cell_type": "code",
   "execution_count": null,
   "id": "ce8e5bd5",
   "metadata": {},
   "outputs": [],
   "source": [
    "## Step 1: Install Required Libraries (if not already installed)\n",
    "!pip install -q transformers"
   ]
  },
  {
   "cell_type": "code",
   "execution_count": null,
   "id": "ecb85387",
   "metadata": {},
   "outputs": [],
   "source": [
    "## Step 2: Import Libraries\n",
    "import pandas as pd\n",
    "from transformers import pipeline"
   ]
  },
  {
   "cell_type": "code",
   "execution_count": null,
   "id": "ad49adec",
   "metadata": {},
   "outputs": [],
   "source": [
    "## Step 3: Load car_test.csv\n",
    "from google.colab import files\n",
    "uploaded = files.upload()"
   ]
  },
  {
   "cell_type": "code",
   "execution_count": null,
   "id": "58b93558",
   "metadata": {},
   "outputs": [],
   "source": [
    "import io\n",
    "df_test = pd.read_csv(io.BytesIO(uploaded['car_test.csv']))"
   ]
  },
  {
   "cell_type": "code",
   "execution_count": null,
   "id": "cf60f367",
   "metadata": {},
   "outputs": [],
   "source": [
    "## Step 4: Load Pretrained Sentiment Analysis Model\n",
    "sentiment_analyzer = pipeline(\"sentiment-analysis\")"
   ]
  },
  {
   "cell_type": "code",
   "execution_count": null,
   "id": "c8ad410d",
   "metadata": {},
   "outputs": [],
   "source": [
    "## Step 5: Predict Sentiments for car_test.csv\n",
    "results = sentiment_analyzer(df_test[\"feedback\"].tolist())"
   ]
  },
  {
   "cell_type": "code",
   "execution_count": null,
   "id": "c7beabce",
   "metadata": {},
   "outputs": [],
   "source": [
    "## Step 6: Assign Sentiment Labels\n",
    "def map_label(label):\n",
    "    if label == \"POSITIVE\":\n",
    "        return \"positive\"\n",
    "    elif label == \"NEGATIVE\":\n",
    "        return \"negative\"\n",
    "    else:\n",
    "        return \"neutral\""
   ]
  },
  {
   "cell_type": "code",
   "execution_count": null,
   "id": "a11b17ff",
   "metadata": {},
   "outputs": [],
   "source": [
    "df_test[\"sentiment\"] = [map_label(r['label']) for r in results]"
   ]
  },
  {
   "cell_type": "code",
   "execution_count": null,
   "id": "7859f4fd",
   "metadata": {},
   "outputs": [],
   "source": [
    "## Step 7: Save the Updated File\n",
    "df_test.to_csv(\"car_test_with_sentiment.csv\", index=False)"
   ]
  },
  {
   "cell_type": "code",
   "execution_count": null,
   "id": "debcde1e",
   "metadata": {},
   "outputs": [],
   "source": [
    "## Step 8: Download the Result File\n",
    "files.download(\"car_test_with_sentiment.csv\")"
   ]
  }
 ],
 "metadata": {},
 "nbformat": 4,
 "nbformat_minor": 5
}
